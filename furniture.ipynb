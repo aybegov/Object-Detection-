{
  "nbformat": 4,
  "nbformat_minor": 0,
  "metadata": {
    "colab": {
      "name": "Untitled3.ipynb",
      "provenance": [],
      "authorship_tag": "ABX9TyMkf5jU+f7apo2UwtoSGHt9",
      "include_colab_link": true
    },
    "kernelspec": {
      "name": "python3",
      "display_name": "Python 3"
    },
    "language_info": {
      "name": "python"
    },
    "accelerator": "GPU"
  },
  "cells": [
    {
      "cell_type": "markdown",
      "metadata": {
        "id": "view-in-github",
        "colab_type": "text"
      },
      "source": [
        "<a href=\"https://colab.research.google.com/github/aybegov/Object-Detection-/blob/main/furniture.ipynb\" target=\"_parent\"><img src=\"https://colab.research.google.com/assets/colab-badge.svg\" alt=\"Open In Colab\"/></a>"
      ]
    },
    {
      "cell_type": "code",
      "metadata": {
        "id": "dYeANZRZlRqr"
      },
      "source": [
        "import numpy as np\n",
        "import tensorflow as tf\n",
        "import os\n",
        "import cv2\n",
        "from tensorflow.keras import layers\n",
        "import pandas as pd"
      ],
      "execution_count": 13,
      "outputs": []
    },
    {
      "cell_type": "code",
      "metadata": {
        "id": "7kbG4KXVlbkH"
      },
      "source": [
        "# Preprocessing function\n",
        "def preprocess(cat, split, label):\n",
        "    train_images = []\n",
        "    train_labels = []\n",
        "    for i in os.listdir(cat):\n",
        "            image = cv2.imread(cat + '/' + i)\n",
        "            res = cv2.resize(image, dsize=(128,128), interpolation=cv2.INTER_CUBIC) # Resize\n",
        "            gray = cv2.cvtColor(res, cv2.COLOR_BGR2GRAY) # Converting to grayscale\n",
        "            train_images.append(gray)\n",
        "            train_labels.append(label)\n",
        "            \n",
        "    size = len(train_images)\n",
        "    return train_images[int(split*size):], train_images[:int(split*size)], train_labels[int(split*size):], train_labels[:int(split*size)] "
      ],
      "execution_count": 14,
      "outputs": []
    },
    {
      "cell_type": "code",
      "metadata": {
        "colab": {
          "base_uri": "https://localhost:8080/",
          "height": 367
        },
        "id": "EgHfVEE8lbhe",
        "outputId": "404162b1-f156-404b-9c54-049d77494962"
      },
      "source": [
        "# Preparing train and test sets\n",
        "train = []\n",
        "test = []\n",
        "labeltrain = []\n",
        "labeltest = []\n",
        "# Bed\n",
        "train_images, test_images, train_labels, test_labels = preprocess('../input/day-3-kaggle-competition/data_comp/data_comp/train/bed', 0.2, 0)\n",
        "train.extend(train_images)\n",
        "test.extend(test_images)\n",
        "labeltrain.extend(train_labels)\n",
        "labeltest.extend(test_labels)\n",
        "\n",
        "# Chair\n",
        "train_images, test_images, train_labels, test_labels = preprocess('../input/day-3-kaggle-competition/data_comp/data_comp/train/chair', 0.15, 1)\n",
        "train.extend(train_images)\n",
        "test.extend(test_images)\n",
        "labeltrain.extend(train_labels)\n",
        "labeltest.extend(test_labels)\n",
        "\n",
        "# Sofa\n",
        "train_images, test_images, train_labels, test_labels = preprocess('../input/day-3-kaggle-competition/data_comp/data_comp/train/sofa', 0.15, 2)\n",
        "train.extend(train_images)\n",
        "test.extend(test_images)\n",
        "labeltrain.extend(train_labels)\n",
        "labeltest.extend(test_labels)\n",
        "\n",
        "# Swivelchair\n",
        "train_images, test_images, train_labels, test_labels = preprocess('../input/day-3-kaggle-competition/data_comp/data_comp/train/swivelchair', 0.1, 3)\n",
        "train.extend(train_images)\n",
        "test.extend(test_images)\n",
        "labeltrain.extend(train_labels)\n",
        "labeltest.extend(test_labels)\n",
        "\n",
        "# Table\n",
        "train_images, test_images, train_labels, test_labels = preprocess('../input/day-3-kaggle-competition/data_comp/data_comp/train/table', 0.15, 4)\n",
        "train.extend(train_images)\n",
        "test.extend(test_images)\n",
        "labeltrain.extend(train_labels)\n",
        "labeltest.extend(test_labels)\n",
        "\n",
        "train = np.array(train)\n",
        "test = np.array(test)\n",
        "labeltrain = np.array(labeltrain)\n",
        "labeltest = np.array(labeltest)\n",
        "\n",
        "train = train.reshape(train.shape[0], 128, 128, 1).astype('float32')\n",
        "train = (train - 127.5) / 127.5 # Normalize the images to [-1, 1]\n",
        "\n",
        "test = test.reshape(test.shape[0], 128, 128, 1).astype('float32')\n",
        "test = (test - 127.5) / 127.5 # Normalize the images to [-1, 1]\n",
        "\n",
        "print (train.shape)\n",
        "print (test.shape)\n",
        "\n"
      ],
      "execution_count": 15,
      "outputs": [
        {
          "output_type": "error",
          "ename": "FileNotFoundError",
          "evalue": "ignored",
          "traceback": [
            "\u001b[0;31m---------------------------------------------------------------------------\u001b[0m",
            "\u001b[0;31mFileNotFoundError\u001b[0m                         Traceback (most recent call last)",
            "\u001b[0;32m<ipython-input-15-87a277759ac0>\u001b[0m in \u001b[0;36m<module>\u001b[0;34m()\u001b[0m\n\u001b[1;32m      5\u001b[0m \u001b[0mlabeltest\u001b[0m \u001b[0;34m=\u001b[0m \u001b[0;34m[\u001b[0m\u001b[0;34m]\u001b[0m\u001b[0;34m\u001b[0m\u001b[0;34m\u001b[0m\u001b[0m\n\u001b[1;32m      6\u001b[0m \u001b[0;31m# Bed\u001b[0m\u001b[0;34m\u001b[0m\u001b[0;34m\u001b[0m\u001b[0;34m\u001b[0m\u001b[0m\n\u001b[0;32m----> 7\u001b[0;31m \u001b[0mtrain_images\u001b[0m\u001b[0;34m,\u001b[0m \u001b[0mtest_images\u001b[0m\u001b[0;34m,\u001b[0m \u001b[0mtrain_labels\u001b[0m\u001b[0;34m,\u001b[0m \u001b[0mtest_labels\u001b[0m \u001b[0;34m=\u001b[0m \u001b[0mpreprocess\u001b[0m\u001b[0;34m(\u001b[0m\u001b[0;34m'../input/day-3-kaggle-competition/data_comp/data_comp/train/bed'\u001b[0m\u001b[0;34m,\u001b[0m \u001b[0;36m0.2\u001b[0m\u001b[0;34m,\u001b[0m \u001b[0;36m0\u001b[0m\u001b[0;34m)\u001b[0m\u001b[0;34m\u001b[0m\u001b[0;34m\u001b[0m\u001b[0m\n\u001b[0m\u001b[1;32m      8\u001b[0m \u001b[0mtrain\u001b[0m\u001b[0;34m.\u001b[0m\u001b[0mextend\u001b[0m\u001b[0;34m(\u001b[0m\u001b[0mtrain_images\u001b[0m\u001b[0;34m)\u001b[0m\u001b[0;34m\u001b[0m\u001b[0;34m\u001b[0m\u001b[0m\n\u001b[1;32m      9\u001b[0m \u001b[0mtest\u001b[0m\u001b[0;34m.\u001b[0m\u001b[0mextend\u001b[0m\u001b[0;34m(\u001b[0m\u001b[0mtest_images\u001b[0m\u001b[0;34m)\u001b[0m\u001b[0;34m\u001b[0m\u001b[0;34m\u001b[0m\u001b[0m\n",
            "\u001b[0;32m<ipython-input-14-2683063c885f>\u001b[0m in \u001b[0;36mpreprocess\u001b[0;34m(cat, split, label)\u001b[0m\n\u001b[1;32m      3\u001b[0m     \u001b[0mtrain_images\u001b[0m \u001b[0;34m=\u001b[0m \u001b[0;34m[\u001b[0m\u001b[0;34m]\u001b[0m\u001b[0;34m\u001b[0m\u001b[0;34m\u001b[0m\u001b[0m\n\u001b[1;32m      4\u001b[0m     \u001b[0mtrain_labels\u001b[0m \u001b[0;34m=\u001b[0m \u001b[0;34m[\u001b[0m\u001b[0;34m]\u001b[0m\u001b[0;34m\u001b[0m\u001b[0;34m\u001b[0m\u001b[0m\n\u001b[0;32m----> 5\u001b[0;31m     \u001b[0;32mfor\u001b[0m \u001b[0mi\u001b[0m \u001b[0;32min\u001b[0m \u001b[0mos\u001b[0m\u001b[0;34m.\u001b[0m\u001b[0mlistdir\u001b[0m\u001b[0;34m(\u001b[0m\u001b[0mcat\u001b[0m\u001b[0;34m)\u001b[0m\u001b[0;34m:\u001b[0m\u001b[0;34m\u001b[0m\u001b[0;34m\u001b[0m\u001b[0m\n\u001b[0m\u001b[1;32m      6\u001b[0m             \u001b[0mimage\u001b[0m \u001b[0;34m=\u001b[0m \u001b[0mcv2\u001b[0m\u001b[0;34m.\u001b[0m\u001b[0mimread\u001b[0m\u001b[0;34m(\u001b[0m\u001b[0mcat\u001b[0m \u001b[0;34m+\u001b[0m \u001b[0;34m'/'\u001b[0m \u001b[0;34m+\u001b[0m \u001b[0mi\u001b[0m\u001b[0;34m)\u001b[0m\u001b[0;34m\u001b[0m\u001b[0;34m\u001b[0m\u001b[0m\n\u001b[1;32m      7\u001b[0m             \u001b[0mres\u001b[0m \u001b[0;34m=\u001b[0m \u001b[0mcv2\u001b[0m\u001b[0;34m.\u001b[0m\u001b[0mresize\u001b[0m\u001b[0;34m(\u001b[0m\u001b[0mimage\u001b[0m\u001b[0;34m,\u001b[0m \u001b[0mdsize\u001b[0m\u001b[0;34m=\u001b[0m\u001b[0;34m(\u001b[0m\u001b[0;36m128\u001b[0m\u001b[0;34m,\u001b[0m\u001b[0;36m128\u001b[0m\u001b[0;34m)\u001b[0m\u001b[0;34m,\u001b[0m \u001b[0minterpolation\u001b[0m\u001b[0;34m=\u001b[0m\u001b[0mcv2\u001b[0m\u001b[0;34m.\u001b[0m\u001b[0mINTER_CUBIC\u001b[0m\u001b[0;34m)\u001b[0m \u001b[0;31m# Resize\u001b[0m\u001b[0;34m\u001b[0m\u001b[0;34m\u001b[0m\u001b[0m\n",
            "\u001b[0;31mFileNotFoundError\u001b[0m: [Errno 2] No such file or directory: '../input/day-3-kaggle-competition/data_comp/data_comp/train/bed'"
          ]
        }
      ]
    },
    {
      "cell_type": "code",
      "metadata": {
        "id": "2s1vm_yJlbcO"
      },
      "source": [
        "# Model\n",
        "model = tf.keras.models.Sequential([\n",
        "    layers.Conv2D(16, (3,3), activation='relu', input_shape=(128, 128, 1)),\n",
        "    layers.MaxPooling2D(2,2),\n",
        "    layers.Conv2D(32, (3,3), activation='relu'),\n",
        "    layers.MaxPooling2D(2,2),\n",
        "    layers.Conv2D(64, (3,3), activation='relu'),\n",
        "    layers.MaxPooling2D(2,2),\n",
        "    layers.Conv2D(32, (3,3), activation='relu', kernel_regularizer=tf.keras.regularizers.l2(0.0028)),\n",
        "    layers.MaxPooling2D(2,2),\n",
        "    layers.Dropout(0.75),\n",
        "    layers.Flatten(),\n",
        "    layers.Dense(1024, activation='relu'),\n",
        "    layers.Dense(512, activation='relu'),\n",
        "    #layers.Dense(256, activation='relu'),\n",
        "    layers.Dense(128, activation='relu'),\n",
        "    #layers.Dropout(0.4),\n",
        "    layers.Dense(64, activation='relu'),\n",
        "    #layers.Dense(32, activation='relu'),\n",
        "    layers.Dense(5, activation='softmax')])\n",
        "\n",
        "model.summary()\n",
        "model.compile(optimizer='adam',\n",
        "    loss='sparse_categorical_crossentropy',\n",
        "    metrics=['accuracy'])\n",
        "\n",
        "\n",
        "history = model.fit(train, labeltrain, epochs = 30,\n",
        "                    validation_data=(test, labeltest), verbose=2)\n",
        "val = []\n",
        "fol = []\n",
        "for i in range(2164):\n",
        "    image = cv2.imread('../data_comp/data_comp/test/img' + str(i) + '.jpg')\n",
        "    res = cv2.resize(image, dsize=(128,128), interpolation=cv2.INTER_CUBIC)\n",
        "    gray = cv2.cvtColor(res, cv2.COLOR_BGR2GRAY) # Converting to grayscale\n",
        "    gray = np.array(gray)\n",
        "    gray = gray.reshape(1, 128, 128, 1).astype('float32')\n",
        "    gray = (gray - 127.5) / 127.5\n",
        "    pred = np.argmax(model.predict(gray)) # Predicting class\n",
        "    val.append(pred)\n",
        "    fol.append('img' + str(i))\n",
        "\n"
      ],
      "execution_count": null,
      "outputs": []
    },
    {
      "cell_type": "code",
      "metadata": {
        "id": "S-IZQvMwlbVG"
      },
      "source": [
        "#print (val[0:5])\n",
        "#print (fol[0:5])\n",
        "output = pd.DataFrame({'image':fol ,'target':val}) # Creating dataframe\n",
        "print (output)\n",
        "output.to_csv('submission3.csv')"
      ],
      "execution_count": null,
      "outputs": []
    }
  ]
}